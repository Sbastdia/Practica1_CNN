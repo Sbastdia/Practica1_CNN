{
  "nbformat": 4,
  "nbformat_minor": 0,
  "metadata": {
    "colab": {
      "provenance": [],
      "gpuType": "T4"
    },
    "kernelspec": {
      "name": "python3",
      "display_name": "Python 3"
    },
    "language_info": {
      "name": "python"
    },
    "accelerator": "GPU"
  },
  "cells": [
    {
      "cell_type": "code",
      "source": [
        "from google.colab import drive\n",
        "drive.mount('/content/drive')"
      ],
      "metadata": {
        "colab": {
          "base_uri": "https://localhost:8080/"
        },
        "id": "4JbW_7MEIuIS",
        "outputId": "c82a0869-73e5-455b-eec0-e29a9cf30381"
      },
      "execution_count": null,
      "outputs": [
        {
          "output_type": "stream",
          "name": "stdout",
          "text": [
            "Drive already mounted at /content/drive; to attempt to forcibly remount, call drive.mount(\"/content/drive\", force_remount=True).\n"
          ]
        }
      ]
    },
    {
      "cell_type": "code",
      "execution_count": null,
      "metadata": {
        "colab": {
          "base_uri": "https://localhost:8080/"
        },
        "id": "I6qC5zQoPNUB",
        "outputId": "7d6695c5-563c-4d42-9bc2-2c1685f6d446"
      },
      "outputs": [
        {
          "output_type": "stream",
          "name": "stdout",
          "text": [
            "Archive:  /content/drive/MyDrive/Datos/Practica1/archive-intel.zip\n",
            "replace archive-intel/seg_test/seg_test/buildings/20057.jpg? [y]es, [n]o, [A]ll, [N]one, [r]ename: "
          ]
        }
      ],
      "source": [
        "#Descomprimimos el archivo en el que tenemos todos los datos necesarios para la práctica\n",
        "!unzip /content/drive/MyDrive/Datos/Practica1/archive-intel.zip"
      ]
    },
    {
      "cell_type": "code",
      "source": [
        "# Preparación de las imagenes en crudo en su representación en tensor\n",
        "from keras.preprocessing.image import ImageDataGenerator\n",
        "#Con este generador, podremos recorrer los datos en lotes, y en cada iteración, el generador aplicará\n",
        "#las técnicas de aumento de datos especificadas para generar imágenes aumentadas"
      ],
      "metadata": {
        "id": "Uh9DjN7KPbmy"
      },
      "execution_count": null,
      "outputs": []
    },
    {
      "cell_type": "code",
      "source": [
        "#Para normalizar los valores de los píxeles en las imágenes\n",
        "train_datagen = ImageDataGenerator(rescale=1./255)\n",
        "test_datagen = ImageDataGenerator(rescale=1./255)"
      ],
      "metadata": {
        "id": "YKbZ4On3SPHF"
      },
      "execution_count": null,
      "outputs": []
    },
    {
      "cell_type": "code",
      "source": [
        "train_generator = train_datagen.flow_from_directory(\n",
        "    '/content/archive-intel/seg_train/seg_train', #Ruta del directorio donde se encuentran las imágenes de entrenamiento\n",
        "    target_size=(150, 150), #Las imágenes se redimensionarán a una altura y ancho de 150 píxeles\n",
        "    batch_size=32, #Número de imágenes en cada lote que se utilizará para el entrenamiento\n",
        "    class_mode='categorical') #Tarea de clasificación categórica (multiclase)"
      ],
      "metadata": {
        "colab": {
          "base_uri": "https://localhost:8080/"
        },
        "id": "yiLbcz-NSRp-",
        "outputId": "12db9287-4187-4b21-a238-592be0ad4792"
      },
      "execution_count": null,
      "outputs": [
        {
          "output_type": "stream",
          "name": "stdout",
          "text": [
            "Found 14034 images belonging to 6 classes.\n"
          ]
        }
      ]
    },
    {
      "cell_type": "code",
      "source": [
        "validation_generator = test_datagen.flow_from_directory(\n",
        "    '/content/archive-intel/seg_test/seg_test', #Ruta del directorio donde se encuentran las imágenes de prueba o validación\n",
        "    target_size=(150, 150), #Las imágenes se redimensionarán a una altura y ancho de 150 píxeles\n",
        "    batch_size=32, #Número de imágenes en cada lote que se utilizará para la validación\n",
        "    class_mode='categorical') #Tarea de clasificación categórica (multiclase)"
      ],
      "metadata": {
        "colab": {
          "base_uri": "https://localhost:8080/"
        },
        "id": "ubqbk_O4S_kT",
        "outputId": "55b86862-2e82-48ae-cada-1395ead9db37"
      },
      "execution_count": null,
      "outputs": [
        {
          "output_type": "stream",
          "name": "stdout",
          "text": [
            "Found 3000 images belonging to 6 classes.\n"
          ]
        }
      ]
    },
    {
      "cell_type": "code",
      "source": [
        "# Vemos el contenido de uno de los generators e imprimimos la forma (shape) del lote de datos y el lote de etiquetas\n",
        "for data_batch, labels_batch in train_generator:\n",
        "    print('data batch shape:', data_batch.shape)\n",
        "    print('labels batch shape:', labels_batch.shape)\n",
        "    break"
      ],
      "metadata": {
        "colab": {
          "base_uri": "https://localhost:8080/"
        },
        "id": "nY7KZmf0TQ17",
        "outputId": "571fea85-1c28-4775-c01b-220b110f661d"
      },
      "execution_count": null,
      "outputs": [
        {
          "output_type": "stream",
          "name": "stdout",
          "text": [
            "data batch shape: (32, 150, 150, 3)\n",
            "labels batch shape: (32, 6)\n"
          ]
        }
      ]
    },
    {
      "cell_type": "code",
      "source": [
        "# Construimos el modelo\n",
        "import numpy as np\n",
        "import tensorflow as tf\n",
        "from tensorflow import keras\n",
        "from keras import models\n",
        "from keras import layers"
      ],
      "metadata": {
        "id": "s3vZMKbBTVkL"
      },
      "execution_count": null,
      "outputs": []
    },
    {
      "cell_type": "code",
      "source": [
        "model = models.Sequential()\n",
        "#Convoluciones en la entrada con 128 filtros, cada uno de tamaño 5x5, utilizando la función de activación relu\n",
        "#La entrada esperada tiene una forma de (150, 150, 3), que son las dimensiones de las imágenes\n",
        "#padding='same' ==> aplicar relleno (padding) a la entrada de manera que la salida tenga la misma altura y ancho que la entrada original\n",
        "model.add(layers.Conv2D(128, (5, 5), padding='same', activation='relu', input_shape=(150, 150, 3)))\n",
        "#Para reducir las dimensiones espaciales de la salida de la capa anterior\n",
        "model.add(layers.MaxPooling2D((2, 2)))\n",
        "model.add(layers.Conv2D(64, (5, 5), padding='same', activation='relu'))\n",
        "model.add(layers.MaxPooling2D((2, 2)))\n",
        "model.add(layers.Conv2D(128, (5, 5), padding='same', activation='relu'))\n",
        "model.add(layers.MaxPooling2D((2, 2)))\n",
        "model.add(layers.Conv2D(128, (5, 5), padding='same', activation='relu'))\n",
        "model.add(layers.MaxPooling2D((2, 2)))\n",
        "model.add(layers.Flatten()) #Aplana la salida de la capa anterior para convertirla en un vector unidimensional, preparándola para las capas densas\n",
        "model.add(layers.Dense(64, activation='relu')) #Agregamos una capa densa con 64 neuronas y función de activación ReLU\n",
        "model.add(layers.Dense(256, activation='relu')) #Otra capa densa con 256 neuronas y activación ReLU\n",
        "model.add(layers.Dense(6, activation='softmax')) #Capa de salida con 6 neuronas (tenemos 6 clases), y función de activación softmax porque es clasificación multiclase"
      ],
      "metadata": {
        "id": "U21Gx7c5TmjN"
      },
      "execution_count": null,
      "outputs": []
    },
    {
      "cell_type": "code",
      "source": [
        "# Resumen del modelo\n",
        "model.summary()"
      ],
      "metadata": {
        "colab": {
          "base_uri": "https://localhost:8080/"
        },
        "id": "Fwa1NJ7VTzRP",
        "outputId": "3ad9af1d-fa1f-4e79-9c46-6b2955e20e6c"
      },
      "execution_count": null,
      "outputs": [
        {
          "output_type": "stream",
          "name": "stdout",
          "text": [
            "Model: \"sequential_8\"\n",
            "_________________________________________________________________\n",
            " Layer (type)                Output Shape              Param #   \n",
            "=================================================================\n",
            " conv2d_26 (Conv2D)          (None, 150, 150, 128)     9728      \n",
            "                                                                 \n",
            " max_pooling2d_26 (MaxPooli  (None, 75, 75, 128)       0         \n",
            " ng2D)                                                           \n",
            "                                                                 \n",
            " conv2d_27 (Conv2D)          (None, 75, 75, 64)        204864    \n",
            "                                                                 \n",
            " max_pooling2d_27 (MaxPooli  (None, 37, 37, 64)        0         \n",
            " ng2D)                                                           \n",
            "                                                                 \n",
            " conv2d_28 (Conv2D)          (None, 37, 37, 128)       204928    \n",
            "                                                                 \n",
            " max_pooling2d_28 (MaxPooli  (None, 18, 18, 128)       0         \n",
            " ng2D)                                                           \n",
            "                                                                 \n",
            " conv2d_29 (Conv2D)          (None, 18, 18, 128)       409728    \n",
            "                                                                 \n",
            " max_pooling2d_29 (MaxPooli  (None, 9, 9, 128)         0         \n",
            " ng2D)                                                           \n",
            "                                                                 \n",
            " flatten_8 (Flatten)         (None, 10368)             0         \n",
            "                                                                 \n",
            " dense_21 (Dense)            (None, 64)                663616    \n",
            "                                                                 \n",
            " dense_22 (Dense)            (None, 256)               16640     \n",
            "                                                                 \n",
            " dense_23 (Dense)            (None, 6)                 1542      \n",
            "                                                                 \n",
            "=================================================================\n",
            "Total params: 1511046 (5.76 MB)\n",
            "Trainable params: 1511046 (5.76 MB)\n",
            "Non-trainable params: 0 (0.00 Byte)\n",
            "_________________________________________________________________\n"
          ]
        }
      ]
    },
    {
      "cell_type": "code",
      "source": [
        "# Configuración del modelo para entrenamiento\n",
        "from tensorflow.keras import optimizers\n",
        "\n",
        "#La entropía cruzada categórica ('categorical_crossentropy') es comúnmente utilizada en este tipo de problemas (multiclase)\n",
        "#Utilizamos como optimizador 'RMSprop' con tasa de aprendizaje de 0.0001\n",
        "#Monitoreamos la precisión durante el entrenamiento\n",
        "model.compile(loss='categorical_crossentropy', optimizer=optimizers.RMSprop(learning_rate=1e-4), metrics=['acc'])"
      ],
      "metadata": {
        "id": "a2SguHHTUE0r"
      },
      "execution_count": null,
      "outputs": []
    },
    {
      "cell_type": "code",
      "source": [
        "# Vamos a entrenar la red neuronal con el generator que configuramos más arriba\n",
        "history = model.fit_generator(train_generator, steps_per_epoch=438, epochs=15, validation_data=validation_generator, validation_steps=93)"
      ],
      "metadata": {
        "colab": {
          "base_uri": "https://localhost:8080/"
        },
        "id": "ICj9VGQFUMDz",
        "outputId": "e6cf7655-c7cb-4baa-97c4-25d3c49c35f5"
      },
      "execution_count": null,
      "outputs": [
        {
          "output_type": "stream",
          "name": "stdout",
          "text": [
            "Epoch 1/15\n"
          ]
        },
        {
          "output_type": "stream",
          "name": "stderr",
          "text": [
            "<ipython-input-76-fa4d6540e62b>:2: UserWarning: `Model.fit_generator` is deprecated and will be removed in a future version. Please use `Model.fit`, which supports generators.\n",
            "  history = model.fit_generator(train_generator, steps_per_epoch=438, epochs=15, validation_data=validation_generator, validation_steps=93)\n"
          ]
        },
        {
          "output_type": "stream",
          "name": "stdout",
          "text": [
            "438/438 [==============================] - 36s 79ms/step - loss: 1.1685 - acc: 0.5379 - val_loss: 0.9836 - val_acc: 0.6082\n",
            "Epoch 2/15\n",
            "438/438 [==============================] - 32s 73ms/step - loss: 0.9048 - acc: 0.6491 - val_loss: 0.8512 - val_acc: 0.6690\n",
            "Epoch 3/15\n",
            "438/438 [==============================] - 32s 72ms/step - loss: 0.7569 - acc: 0.7123 - val_loss: 0.6871 - val_acc: 0.7433\n",
            "Epoch 4/15\n",
            "438/438 [==============================] - 33s 75ms/step - loss: 0.6572 - acc: 0.7630 - val_loss: 0.6868 - val_acc: 0.7480\n",
            "Epoch 5/15\n",
            "438/438 [==============================] - 34s 77ms/step - loss: 0.5900 - acc: 0.7836 - val_loss: 0.6805 - val_acc: 0.7591\n",
            "Epoch 6/15\n",
            "438/438 [==============================] - 32s 73ms/step - loss: 0.5263 - acc: 0.8111 - val_loss: 0.5275 - val_acc: 0.8202\n",
            "Epoch 7/15\n",
            "438/438 [==============================] - 32s 72ms/step - loss: 0.4778 - acc: 0.8310 - val_loss: 0.4703 - val_acc: 0.8411\n",
            "Epoch 8/15\n",
            "438/438 [==============================] - 32s 73ms/step - loss: 0.4429 - acc: 0.8412 - val_loss: 0.4662 - val_acc: 0.8384\n",
            "Epoch 9/15\n",
            "438/438 [==============================] - 34s 77ms/step - loss: 0.4101 - acc: 0.8527 - val_loss: 0.4531 - val_acc: 0.8444\n",
            "Epoch 10/15\n",
            "438/438 [==============================] - 32s 72ms/step - loss: 0.3714 - acc: 0.8699 - val_loss: 0.5164 - val_acc: 0.8263\n",
            "Epoch 11/15\n",
            "438/438 [==============================] - 32s 72ms/step - loss: 0.3437 - acc: 0.8778 - val_loss: 0.4469 - val_acc: 0.8532\n",
            "Epoch 12/15\n",
            "438/438 [==============================] - 32s 72ms/step - loss: 0.3096 - acc: 0.8907 - val_loss: 0.4484 - val_acc: 0.8542\n",
            "Epoch 13/15\n",
            "438/438 [==============================] - 34s 78ms/step - loss: 0.2842 - acc: 0.9012 - val_loss: 0.4889 - val_acc: 0.8384\n",
            "Epoch 14/15\n",
            "438/438 [==============================] - 34s 77ms/step - loss: 0.2563 - acc: 0.9133 - val_loss: 0.5954 - val_acc: 0.8044\n",
            "Epoch 15/15\n",
            "438/438 [==============================] - 32s 72ms/step - loss: 0.2315 - acc: 0.9179 - val_loss: 0.4840 - val_acc: 0.8555\n"
          ]
        }
      ]
    },
    {
      "cell_type": "markdown",
      "source": [
        "# Vamos a ver las graficas de entrenamiento"
      ],
      "metadata": {
        "id": "7mnwm9MaaGsX"
      }
    },
    {
      "cell_type": "code",
      "source": [
        "history_dict = history.history"
      ],
      "metadata": {
        "id": "QiXtmVboVI4Y"
      },
      "execution_count": null,
      "outputs": []
    },
    {
      "cell_type": "code",
      "source": [
        "#Para obtener las claves disponibles en este diccionario\n",
        "history_dict.keys()"
      ],
      "metadata": {
        "colab": {
          "base_uri": "https://localhost:8080/"
        },
        "id": "lH_Ged59aI4N",
        "outputId": "48d82a7a-e3c4-4764-d6ca-142df1494661"
      },
      "execution_count": null,
      "outputs": [
        {
          "output_type": "execute_result",
          "data": {
            "text/plain": [
              "dict_keys(['loss', 'acc', 'val_loss', 'val_acc'])"
            ]
          },
          "metadata": {},
          "execution_count": 78
        }
      ]
    },
    {
      "cell_type": "code",
      "source": [
        "#Gráfica de la precisión del modelo\n",
        "import matplotlib.pyplot as plt\n",
        "\n",
        "plt.plot(history.history['acc'])\n",
        "plt.plot(history.history['val_acc'])\n",
        "plt.title('model accuracy')\n",
        "plt.ylabel('accuracy') #Eje y (accuracy): Representa la precisión del modelo\n",
        "plt.xlabel('epoch') #Eje x (epoch): Representa las épocas del entrenamiento\n",
        "plt.legend(['train', 'val'], loc='upper left')\n",
        "plt.show()"
      ],
      "metadata": {
        "colab": {
          "base_uri": "https://localhost:8080/",
          "height": 472
        },
        "id": "FhQwAny3aKl6",
        "outputId": "48ab202a-d044-4f86-d8be-94d775cb3c7a"
      },
      "execution_count": null,
      "outputs": [
        {
          "output_type": "display_data",
          "data": {
            "text/plain": [
              "<Figure size 640x480 with 1 Axes>"
            ],
            "image/png": "[encoded data removed]"
          },
          "metadata": {}
        }
      ]
    },
    {
      "cell_type": "code",
      "source": [
        "#Gráfica de la pérdida del modelo\n",
        "plt.plot(history.history['loss'])\n",
        "plt.plot(history.history['val_loss'])\n",
        "plt.title('model loss')\n",
        "plt.ylabel('loss') #Eje y (loss): Representa la pérdida del modelo\n",
        "plt.xlabel('epoch') #Eje x (epoch): Representa las épocas del entrenamiento\n",
        "plt.legend(['train', 'val'], loc='upper left')\n",
        "plt.show()"
      ],
      "metadata": {
        "colab": {
          "base_uri": "https://localhost:8080/",
          "height": 472
        },
        "id": "wuGbTGHYaNjE",
        "outputId": "2a2236a2-eb8d-4da0-db05-9a92471a1c1d"
      },
      "execution_count": null,
      "outputs": [
        {
          "output_type": "display_data",
          "data": {
            "text/plain": [
              "<Figure size 640x480 with 1 Axes>"
            ],
            "image/png": "[encoded data removed]"
          },
          "metadata": {}
        }
      ]
    },
    {
      "cell_type": "code",
      "source": [
        "#Para evaluar el rendimiento del modelo en un conjunto de datos que no se ha visto durante el entrenamiento\n",
        "test_generator = test_datagen.flow_from_directory(\n",
        "    '/content/archive-intel/seg_test/seg_test', #Ruta del directorio donde se encuentran las imágenes de prueba\n",
        "    target_size=(150, 150), #Las imágenes se redimensionarán a una altura y ancho de 150 píxeles\n",
        "    batch_size=32, #Número de imágenes en cada lote que se utilizará para la evaluación\n",
        "    class_mode='categorical') #Tarea de clasificación categórica (multiclase)"
      ],
      "metadata": {
        "colab": {
          "base_uri": "https://localhost:8080/"
        },
        "id": "CRglUsw5aSsD",
        "outputId": "375b5ca6-ad68-4df0-8fe3-0e98598a3dd8"
      },
      "execution_count": null,
      "outputs": [
        {
          "output_type": "stream",
          "name": "stdout",
          "text": [
            "Found 3000 images belonging to 6 classes.\n"
          ]
        }
      ]
    },
    {
      "cell_type": "code",
      "source": [
        "#Estimar la preción al predecir todo el dataset, es decir, evaluamos el rendimiento final del modelo en datos no vistos\n",
        "scores = model.evaluate(test_generator)\n",
        "print(\"%s: %.2f%%\" % (model.metrics_names[1], scores[1]*100))"
      ],
      "metadata": {
        "colab": {
          "base_uri": "https://localhost:8080/"
        },
        "id": "MFAs4EgoabTy",
        "outputId": "33cf58c1-4b63-4e49-e095-8a1f0501cb88"
      },
      "execution_count": null,
      "outputs": [
        {
          "output_type": "stream",
          "name": "stdout",
          "text": [
            "94/94 [==============================] - 3s 36ms/step - loss: 0.4866 - acc: 0.8550\n",
            "acc: 85.50%\n"
          ]
        }
      ]
    }
  ]
}