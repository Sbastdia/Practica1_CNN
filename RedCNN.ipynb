{
  "nbformat": 4,
  "nbformat_minor": 0,
  "metadata": {
    "colab": {
      "provenance": [],
      "gpuType": "T4"
    },
    "kernelspec": {
      "name": "python3",
      "display_name": "Python 3"
    },
    "language_info": {
      "name": "python"
    },
    "accelerator": "GPU"
  },
  "cells": [
    {
      "cell_type": "code",
      "source": [
        "from google.colab import drive\n",
        "drive.mount('/content/drive')"
      ],
      "metadata": {
        "colab": {
          "base_uri": "https://localhost:8080/"
        },
        "id": "4JbW_7MEIuIS",
        "outputId": "4e6555d2-0aeb-4293-a27a-2ec8448ec41f"
      },
      "execution_count": null,
      "outputs": [
        {
          "output_type": "stream",
          "name": "stdout",
          "text": [
            "Drive already mounted at /content/drive; to attempt to forcibly remount, call drive.mount(\"/content/drive\", force_remount=True).\n"
          ]
        }
      ]
    },
    {
      "cell_type": "code",
      "execution_count": null,
      "metadata": {
        "colab": {
          "base_uri": "https://localhost:8080/"
        },
        "id": "I6qC5zQoPNUB",
        "outputId": "86076231-a5b9-4448-941c-bff46696e63e"
      },
      "outputs": [
        {
          "output_type": "stream",
          "name": "stdout",
          "text": [
            "Archive:  /content/drive/MyDrive/Datos/Practica1/archive-intel.zip\n",
            "replace archive-intel/seg_test/seg_test/buildings/20057.jpg? [y]es, [n]o, [A]ll, [N]one, [r]ename: "
          ]
        }
      ],
      "source": [
        "#Descomprimimos el archivo en el que tenemos todos los datos necesarios para la práctica\n",
        "!unzip /content/drive/MyDrive/Datos/Practica1/archive-intel.zip"
      ]
    },
    {
      "cell_type": "code",
      "source": [
        "# Preparación de las imagenes en crudo en su representación en tensor\n",
        "from keras.preprocessing.image import ImageDataGenerator\n",
        "#Con este generador, podremos recorrer los datos en lotes, y en cada iteración, el generador aplicará\n",
        "#las técnicas de aumento de datos especificadas para generar imágenes aumentadas"
      ],
      "metadata": {
        "id": "Uh9DjN7KPbmy"
      },
      "execution_count": null,
      "outputs": []
    },
    {
      "cell_type": "code",
      "source": [
        "#Para normalizar los valores de los píxeles en las imágenes\n",
        "train_datagen = ImageDataGenerator(rescale=1./255)\n",
        "test_datagen = ImageDataGenerator(rescale=1./255)"
      ],
      "metadata": {
        "id": "YKbZ4On3SPHF"
      },
      "execution_count": null,
      "outputs": []
    },
    {
      "cell_type": "code",
      "source": [
        "train_generator = train_datagen.flow_from_directory(\n",
        "    '/content/archive-intel/seg_train/seg_train', #Ruta del directorio donde se encuentran las imágenes de entrenamiento\n",
        "    target_size=(200, 200), #Las imágenes se redimensionarán a una altura y ancho de 200 píxeles\n",
        "    batch_size=32, #Número de imágenes en cada lote que se utilizará para el entrenamiento\n",
        "    class_mode='categorical') #Tarea de clasificación categórica (multiclase)"
      ],
      "metadata": {
        "colab": {
          "base_uri": "https://localhost:8080/"
        },
        "id": "yiLbcz-NSRp-",
        "outputId": "b74db40d-80fd-46a6-f07b-8cb704604f11"
      },
      "execution_count": null,
      "outputs": [
        {
          "output_type": "stream",
          "name": "stdout",
          "text": [
            "Found 14034 images belonging to 6 classes.\n"
          ]
        }
      ]
    },
    {
      "cell_type": "code",
      "source": [
        "validation_generator = test_datagen.flow_from_directory(\n",
        "    '/content/archive-intel/seg_test/seg_test', #Ruta del directorio donde se encuentran las imágenes de prueba o validación\n",
        "    target_size=(200, 200), #Las imágenes se redimensionarán a una altura y ancho de 200 píxeles\n",
        "    batch_size=32, #Número de imágenes en cada lote que se utilizará para la validación\n",
        "    class_mode='categorical') #Tarea de clasificación categórica (multiclase)"
      ],
      "metadata": {
        "colab": {
          "base_uri": "https://localhost:8080/"
        },
        "id": "ubqbk_O4S_kT",
        "outputId": "b71c493e-214e-4bbd-c1e4-ea69fc5466e2"
      },
      "execution_count": null,
      "outputs": [
        {
          "output_type": "stream",
          "name": "stdout",
          "text": [
            "Found 3000 images belonging to 6 classes.\n"
          ]
        }
      ]
    },
    {
      "cell_type": "code",
      "source": [
        "# Vemos el contenido de uno de los generators e imprimimos la forma (shape) del lote de datos y el lote de etiquetas\n",
        "for data_batch, labels_batch in train_generator:\n",
        "    print('data batch shape:', data_batch.shape)\n",
        "    print('labels batch shape:', labels_batch.shape)\n",
        "    break"
      ],
      "metadata": {
        "colab": {
          "base_uri": "https://localhost:8080/"
        },
        "id": "nY7KZmf0TQ17",
        "outputId": "ae06b4ac-36fe-426c-8e65-06275fa3185e"
      },
      "execution_count": null,
      "outputs": [
        {
          "output_type": "stream",
          "name": "stdout",
          "text": [
            "data batch shape: (32, 200, 200, 3)\n",
            "labels batch shape: (32, 6)\n"
          ]
        }
      ]
    },
    {
      "cell_type": "code",
      "source": [
        "# Construimos el modelo\n",
        "import numpy as np\n",
        "import tensorflow as tf\n",
        "from tensorflow import keras\n",
        "from keras import models\n",
        "from keras import layers"
      ],
      "metadata": {
        "id": "s3vZMKbBTVkL"
      },
      "execution_count": null,
      "outputs": []
    },
    {
      "cell_type": "code",
      "source": [
        "model = models.Sequential()\n",
        "#Convoluciones en la entrada con 128 filtros, cada uno de tamaño 5x5, utilizando la función de activación relu\n",
        "#La entrada esperada tiene una forma de (200, 200, 3), que son las dimensiones de las imágenes\n",
        "#padding='same' ==> aplicar relleno (padding) a la entrada de manera que la salida tenga la misma altura y ancho que la entrada original\n",
        "model.add(layers.Conv2D(128, (5, 5), padding='same', activation='relu', input_shape=(200, 200, 3)))\n",
        "#Para reducir las dimensiones espaciales de la salida de la capa anterior\n",
        "model.add(layers.MaxPooling2D((2, 2)))\n",
        "model.add(layers.Conv2D(64, (5, 5), padding='same', activation='relu'))\n",
        "model.add(layers.MaxPooling2D((2, 2)))\n",
        "model.add(layers.Conv2D(128, (5, 5), padding='same', activation='relu'))\n",
        "model.add(layers.MaxPooling2D((2, 2)))\n",
        "model.add(layers.Conv2D(128, (5, 5), padding='same', activation='relu'))\n",
        "model.add(layers.MaxPooling2D((2, 2)))\n",
        "model.add(layers.Flatten()) #Aplana la salida de la capa anterior para convertirla en un vector unidimensional, preparándola para las capas densas\n",
        "model.add(layers.Dense(64, activation='relu')) #Agregamos una capa densa con 64 neuronas y función de activación ReLU\n",
        "model.add(layers.Dropout(0.2)) #Agregamos capa Dropout() para evitar overfitting\n",
        "model.add(layers.Dense(256, activation='relu')) #Otra capa densa con 256 neuronas y activación ReLU\n",
        "model.add(layers.Dense(6, activation='softmax')) #Capa de salida con 6 neuronas (tenemos 6 clases), y función de activación softmax porque es clasificación multiclase"
      ],
      "metadata": {
        "id": "U21Gx7c5TmjN"
      },
      "execution_count": null,
      "outputs": []
    },
    {
      "cell_type": "code",
      "source": [
        "# Resumen del modelo\n",
        "model.summary()"
      ],
      "metadata": {
        "colab": {
          "base_uri": "https://localhost:8080/"
        },
        "id": "Fwa1NJ7VTzRP",
        "outputId": "56815dff-650f-4039-ec78-a32af52aaeff"
      },
      "execution_count": null,
      "outputs": [
        {
          "output_type": "stream",
          "name": "stdout",
          "text": [
            "Model: \"sequential_1\"\n",
            "_________________________________________________________________\n",
            " Layer (type)                Output Shape              Param #   \n",
            "=================================================================\n",
            " conv2d_4 (Conv2D)           (None, 200, 200, 128)     9728      \n",
            "                                                                 \n",
            " max_pooling2d_4 (MaxPoolin  (None, 100, 100, 128)     0         \n",
            " g2D)                                                            \n",
            "                                                                 \n",
            " conv2d_5 (Conv2D)           (None, 100, 100, 64)      204864    \n",
            "                                                                 \n",
            " max_pooling2d_5 (MaxPoolin  (None, 50, 50, 64)        0         \n",
            " g2D)                                                            \n",
            "                                                                 \n",
            " conv2d_6 (Conv2D)           (None, 50, 50, 128)       204928    \n",
            "                                                                 \n",
            " max_pooling2d_6 (MaxPoolin  (None, 25, 25, 128)       0         \n",
            " g2D)                                                            \n",
            "                                                                 \n",
            " conv2d_7 (Conv2D)           (None, 25, 25, 128)       409728    \n",
            "                                                                 \n",
            " max_pooling2d_7 (MaxPoolin  (None, 12, 12, 128)       0         \n",
            " g2D)                                                            \n",
            "                                                                 \n",
            " flatten_1 (Flatten)         (None, 18432)             0         \n",
            "                                                                 \n",
            " dense_3 (Dense)             (None, 64)                1179712   \n",
            "                                                                 \n",
            " dropout_1 (Dropout)         (None, 64)                0         \n",
            "                                                                 \n",
            " dense_4 (Dense)             (None, 256)               16640     \n",
            "                                                                 \n",
            " dense_5 (Dense)             (None, 6)                 1542      \n",
            "                                                                 \n",
            "=================================================================\n",
            "Total params: 2027142 (7.73 MB)\n",
            "Trainable params: 2027142 (7.73 MB)\n",
            "Non-trainable params: 0 (0.00 Byte)\n",
            "_________________________________________________________________\n"
          ]
        }
      ]
    },
    {
      "cell_type": "code",
      "source": [
        "# Configuración del modelo para entrenamiento\n",
        "from tensorflow.keras import optimizers\n",
        "\n",
        "#La entropía cruzada categórica ('categorical_crossentropy') es comúnmente utilizada en este tipo de problemas (multiclase)\n",
        "#Utilizamos como optimizador 'RMSprop' con tasa de aprendizaje de 0.0001\n",
        "#Monitoreamos la precisión durante el entrenamiento\n",
        "model.compile(loss='categorical_crossentropy', optimizer=optimizers.RMSprop(learning_rate=1e-4), metrics=['acc'])"
      ],
      "metadata": {
        "id": "a2SguHHTUE0r"
      },
      "execution_count": null,
      "outputs": []
    },
    {
      "cell_type": "code",
      "source": [
        "# Vamos a entrenar la red neuronal con el generator que configuramos más arriba\n",
        "history = model.fit_generator(train_generator, steps_per_epoch=438, epochs=10, validation_data=validation_generator, validation_steps=93)"
      ],
      "metadata": {
        "colab": {
          "base_uri": "https://localhost:8080/"
        },
        "id": "ICj9VGQFUMDz",
        "outputId": "ce43adbb-89e9-441a-d977-0b77e96d64f2"
      },
      "execution_count": null,
      "outputs": [
        {
          "output_type": "stream",
          "name": "stdout",
          "text": [
            "Epoch 1/10\n"
          ]
        },
        {
          "output_type": "stream",
          "name": "stderr",
          "text": [
            "<ipython-input-16-d39f8d8418d6>:2: UserWarning: `Model.fit_generator` is deprecated and will be removed in a future version. Please use `Model.fit`, which supports generators.\n",
            "  history = model.fit_generator(train_generator, steps_per_epoch=438, epochs=10, validation_data=validation_generator, validation_steps=93)\n"
          ]
        },
        {
          "output_type": "stream",
          "name": "stdout",
          "text": [
            "438/438 [==============================] - 56s 123ms/step - loss: 1.2017 - acc: 0.5255 - val_loss: 0.9680 - val_acc: 0.6169\n",
            "Epoch 2/10\n",
            "438/438 [==============================] - 55s 125ms/step - loss: 0.9430 - acc: 0.6303 - val_loss: 0.8288 - val_acc: 0.6643\n",
            "Epoch 3/10\n",
            "438/438 [==============================] - 54s 124ms/step - loss: 0.8364 - acc: 0.6760 - val_loss: 0.7405 - val_acc: 0.7063\n",
            "Epoch 4/10\n",
            "438/438 [==============================] - 53s 120ms/step - loss: 0.7210 - acc: 0.7326 - val_loss: 0.6319 - val_acc: 0.7762\n",
            "Epoch 5/10\n",
            "438/438 [==============================] - 54s 123ms/step - loss: 0.6340 - acc: 0.7716 - val_loss: 0.6444 - val_acc: 0.7749\n",
            "Epoch 6/10\n",
            "438/438 [==============================] - 53s 121ms/step - loss: 0.5788 - acc: 0.7982 - val_loss: 0.5840 - val_acc: 0.7893\n",
            "Epoch 7/10\n",
            "438/438 [==============================] - 53s 121ms/step - loss: 0.5230 - acc: 0.8155 - val_loss: 0.4803 - val_acc: 0.8360\n",
            "Epoch 8/10\n",
            "438/438 [==============================] - 53s 120ms/step - loss: 0.4843 - acc: 0.8275 - val_loss: 0.4837 - val_acc: 0.8360\n",
            "Epoch 9/10\n",
            "438/438 [==============================] - 53s 120ms/step - loss: 0.4390 - acc: 0.8458 - val_loss: 0.4734 - val_acc: 0.8407\n",
            "Epoch 10/10\n",
            "438/438 [==============================] - 53s 122ms/step - loss: 0.4114 - acc: 0.8543 - val_loss: 0.4149 - val_acc: 0.8629\n"
          ]
        }
      ]
    },
    {
      "cell_type": "markdown",
      "source": [
        "# Vamos a ver las graficas de entrenamiento"
      ],
      "metadata": {
        "id": "7mnwm9MaaGsX"
      }
    },
    {
      "cell_type": "code",
      "source": [
        "history_dict = history.history"
      ],
      "metadata": {
        "id": "QiXtmVboVI4Y"
      },
      "execution_count": null,
      "outputs": []
    },
    {
      "cell_type": "code",
      "source": [
        "#Para obtener las claves disponibles en este diccionario\n",
        "history_dict.keys()"
      ],
      "metadata": {
        "id": "lH_Ged59aI4N",
        "colab": {
          "base_uri": "https://localhost:8080/"
        },
        "outputId": "3d83eeb9-ed03-4f5b-d393-d254ff08dbdf"
      },
      "execution_count": null,
      "outputs": [
        {
          "output_type": "execute_result",
          "data": {
            "text/plain": [
              "dict_keys(['loss', 'acc', 'val_loss', 'val_acc'])"
            ]
          },
          "metadata": {},
          "execution_count": 18
        }
      ]
    },
    {
      "cell_type": "code",
      "source": [
        "#Gráfica de la precisión del modelo\n",
        "import matplotlib.pyplot as plt\n",
        "\n",
        "plt.plot(history.history['acc'])\n",
        "plt.plot(history.history['val_acc'])\n",
        "plt.title('model accuracy')\n",
        "plt.ylabel('accuracy') #Eje y (accuracy): Representa la precisión del modelo\n",
        "plt.xlabel('epoch') #Eje x (epoch): Representa las épocas del entrenamiento\n",
        "plt.legend(['train', 'val'], loc='upper left')\n",
        "plt.show()"
      ],
      "metadata": {
        "id": "FhQwAny3aKl6",
        "colab": {
          "base_uri": "https://localhost:8080/",
          "height": 472
        },
        "outputId": "553520c3-7fb1-4012-ae9c-c9f96c1e3b25"
      },
      "execution_count": null,
      "outputs": [
        {
          "output_type": "display_data",
          "data": {
            "text/plain": [
              "<Figure size 640x480 with 1 Axes>"
            ],
            "image/png": "[encoded data removed]"
          },
          "metadata": {}
        }
      ]
    },
    {
      "cell_type": "code",
      "source": [
        "#Gráfica de la pérdida del modelo\n",
        "plt.plot(history.history['loss'])\n",
        "plt.plot(history.history['val_loss'])\n",
        "plt.title('model loss')\n",
        "plt.ylabel('loss') #Eje y (loss): Representa la pérdida del modelo\n",
        "plt.xlabel('epoch') #Eje x (epoch): Representa las épocas del entrenamiento\n",
        "plt.legend(['train', 'val'], loc='upper left')\n",
        "plt.show()"
      ],
      "metadata": {
        "id": "wuGbTGHYaNjE",
        "colab": {
          "base_uri": "https://localhost:8080/",
          "height": 472
        },
        "outputId": "8180ee3d-aa8c-4567-9753-878cbd24f9ad"
      },
      "execution_count": null,
      "outputs": [
        {
          "output_type": "display_data",
          "data": {
            "text/plain": [
              "<Figure size 640x480 with 1 Axes>"
            ],
            "image/png": "[encoded data removed]"
          },
          "metadata": {}
        }
      ]
    },
    {
      "cell_type": "code",
      "source": [
        "#Para evaluar el rendimiento del modelo en un conjunto de datos que no se ha visto durante el entrenamiento\n",
        "test_generator = test_datagen.flow_from_directory(\n",
        "    '/content/archive-intel/seg_test/seg_test', #Ruta del directorio donde se encuentran las imágenes de prueba\n",
        "    target_size=(200, 200), #Las imágenes se redimensionarán a una altura y ancho de 200 píxeles\n",
        "    batch_size=32, #Número de imágenes en cada lote que se utilizará para la evaluación\n",
        "    class_mode='categorical') #Tarea de clasificación categórica (multiclase)"
      ],
      "metadata": {
        "id": "CRglUsw5aSsD",
        "colab": {
          "base_uri": "https://localhost:8080/"
        },
        "outputId": "e5253c77-78b9-4a60-ac05-ed93e8ac2035"
      },
      "execution_count": null,
      "outputs": [
        {
          "output_type": "stream",
          "name": "stdout",
          "text": [
            "Found 3000 images belonging to 6 classes.\n"
          ]
        }
      ]
    },
    {
      "cell_type": "code",
      "source": [
        "#Estimar la preción al predecir todo el dataset, es decir, evaluamos el rendimiento final del modelo en datos no vistos\n",
        "scores = model.evaluate(test_generator)\n",
        "print(\"%s: %.2f%%\" % (model.metrics_names[1], scores[1]*100))"
      ],
      "metadata": {
        "id": "MFAs4EgoabTy",
        "colab": {
          "base_uri": "https://localhost:8080/"
        },
        "outputId": "6a2baafd-4d2f-4665-9c6e-099dae91444c"
      },
      "execution_count": null,
      "outputs": [
        {
          "output_type": "stream",
          "name": "stdout",
          "text": [
            "94/94 [==============================] - 8s 90ms/step - loss: 0.4160 - acc: 0.8630\n",
            "acc: 86.30%\n"
          ]
        }
      ]
    },
    {
      "cell_type": "code",
      "source": [],
      "metadata": {
        "id": "eVQ4pch9IpxC"
      },
      "execution_count": null,
      "outputs": []
    }
  ]
}